{
  "nbformat": 4,
  "nbformat_minor": 0,
  "metadata": {
    "colab": {
      "provenance": []
    },
    "kernelspec": {
      "name": "python3",
      "display_name": "Python 3"
    },
    "language_info": {
      "name": "python"
    }
  },
  "cells": [
    {
      "cell_type": "markdown",
      "source": [
        "1. What are the five key concepts of Object-Oriented Programming (OOP)?"
      ],
      "metadata": {
        "id": "0ygIwc3xFwXW"
      }
    },
    {
      "cell_type": "markdown",
      "source": [
        "\n",
        "The five key concepts of Object-Oriented Programming (OOP) are:\n",
        "\n",
        "##1. Encapsulation\n",
        "Definition: Bundling data (attributes) and methods (functions) that operate on the data into a single unit (class), while restricting direct access to some components.\n",
        "Purpose: Protects the integrity of the object’s state and promotes modularity.\n",
        "Example:\n",
        "\n"
      ],
      "metadata": {
        "id": "LqRhafCnF_QO"
      }
    },
    {
      "cell_type": "code",
      "source": [
        "class Car:\n",
        "    def __init__(self, make, model):\n",
        "        self.__make = make  # Private attribute\n",
        "        self.__model = model  # Private attribute\n",
        "\n",
        "    def get_make(self):  # Public method\n",
        "        return self.__make\n",
        "\n",
        "    def set_make(self, make):  # Public method\n",
        "        self.__make = make\n"
      ],
      "metadata": {
        "id": "Sl4nuJ0wGHcT"
      },
      "execution_count": 1,
      "outputs": []
    },
    {
      "cell_type": "markdown",
      "source": [
        "##2. Abstraction\n",
        "Definition: Hiding the complex implementation details of a system and exposing only the essential features.\n",
        "Purpose: Simplifies the design and usage of complex systems by focusing on the relevant details.\n",
        "Example:\n",
        "\n"
      ],
      "metadata": {
        "id": "aRa1fDzlGLeG"
      }
    },
    {
      "cell_type": "code",
      "source": [
        "from abc import ABC, abstractmethod\n",
        "\n",
        "class Shape(ABC):\n",
        "    @abstractmethod\n",
        "    def area(self):\n",
        "        pass\n",
        "\n",
        "class Circle(Shape):\n",
        "    def __init__(self, radius):\n",
        "        self.radius = radius\n",
        "\n",
        "    def area(self):\n",
        "        return 3.14 * self.radius * self.radius\n"
      ],
      "metadata": {
        "id": "gMw-3LH9GcUt"
      },
      "execution_count": 2,
      "outputs": []
    },
    {
      "cell_type": "markdown",
      "source": [
        "##3. Inheritance\n",
        "Definition: Mechanism for creating a new class from an existing class, allowing the new class (child) to inherit attributes and methods of the parent class.\n",
        "Purpose: Promotes code reuse and establishes a relationship between different classes.\n",
        "Example:"
      ],
      "metadata": {
        "id": "gD74PUwwGh8p"
      }
    },
    {
      "cell_type": "code",
      "source": [
        "class Animal:\n",
        "    def speak(self):\n",
        "        print(\"Animal speaks\")\n",
        "\n",
        "class Dog(Animal):\n",
        "    def speak(self):\n",
        "        print(\"Dog barks\")\n",
        "\n",
        "dog = Dog()\n",
        "dog.speak()  # Output: Dog barks\n"
      ],
      "metadata": {
        "colab": {
          "base_uri": "https://localhost:8080/"
        },
        "id": "2E8VsrbDGpqr",
        "outputId": "3f8b79f6-321a-4b39-f011-8a59e8fac117"
      },
      "execution_count": 3,
      "outputs": [
        {
          "output_type": "stream",
          "name": "stdout",
          "text": [
            "Dog barks\n"
          ]
        }
      ]
    },
    {
      "cell_type": "markdown",
      "source": [
        "##4. Polymorphism\n",
        "Definition: Ability of different objects to respond in their own way to the same message (method call).\n",
        "Purpose: Enhances flexibility and reusability of code by allowing objects to be treated as instances of their parent class.\n",
        "##Example:\n",
        "\n"
      ],
      "metadata": {
        "id": "ndC4UQh2HBE0"
      }
    },
    {
      "cell_type": "code",
      "source": [
        "class Bird:\n",
        "    def sound(self):\n",
        "        print(\"Bird chirps\")\n",
        "\n",
        "class Duck(Bird):\n",
        "    def sound(self):\n",
        "        print(\"Duck quacks\")\n",
        "\n",
        "def make_sound(bird):\n",
        "    bird.sound()\n",
        "\n",
        "bird1 = Bird()\n",
        "bird2 = Duck()\n",
        "\n",
        "make_sound(bird1)  # Output: Bird chirps\n",
        "make_sound(bird2)  # Output: Duck quacks\n"
      ],
      "metadata": {
        "colab": {
          "base_uri": "https://localhost:8080/"
        },
        "id": "QoSokY8vHJDT",
        "outputId": "ba4fc37d-7347-41b6-c989-08b195484bcc"
      },
      "execution_count": 4,
      "outputs": [
        {
          "output_type": "stream",
          "name": "stdout",
          "text": [
            "Bird chirps\n",
            "Duck quacks\n"
          ]
        }
      ]
    },
    {
      "cell_type": "markdown",
      "source": [
        "##5. Association (sometimes includes Composition and Aggregation)\n",
        "Definition: Relationship between objects that shows how objects work together.\n",
        "Composition: A strong \"has-a\" relationship where the child object cannot exist without the parent object.\n",
        "Aggregation: A weaker \"has-a\" relationship where the child object can exist independently of the parent.\n",
        "Purpose: Represents real-world relationships between objects.\n",
        "Example:\n",
        "\n"
      ],
      "metadata": {
        "id": "KHWROVMEHMo1"
      }
    },
    {
      "cell_type": "code",
      "source": [
        "# Composition\n",
        "class Engine:\n",
        "    def __init__(self, power):\n",
        "        self.power = power\n",
        "\n",
        "class Car:\n",
        "    def __init__(self, engine):\n",
        "        self.engine = engine\n",
        "\n",
        "engine = Engine(2000)\n",
        "car = Car(engine)\n",
        "print(car.engine.power)  # Output: 2000\n"
      ],
      "metadata": {
        "colab": {
          "base_uri": "https://localhost:8080/"
        },
        "id": "npQr9Sl-HUW-",
        "outputId": "8cbdc4bc-4032-45d0-b618-845c2f538bdc"
      },
      "execution_count": 5,
      "outputs": [
        {
          "output_type": "stream",
          "name": "stdout",
          "text": [
            "2000\n"
          ]
        }
      ]
    },
    {
      "cell_type": "markdown",
      "source": [
        " 2. Write a Python class for a `Car` with attributes for `make`, `model`, and `year`. Include a method to display\n",
        "the car's information."
      ],
      "metadata": {
        "id": "zFZ8RS88HXNp"
      }
    },
    {
      "cell_type": "code",
      "source": [
        "class Car:\n",
        "    def __init__(self, make, model, year):\n",
        "        self.make = make\n",
        "        self.model = model\n",
        "        self.year = year\n",
        "\n",
        "    def display_info(self):\n",
        "        print(f\"{self.year} {self.make} {self.model}\")\n",
        "\n",
        "# Example usage\n",
        "car = Car(\"Toyota\", \"Camry\", 2022)\n",
        "car.display_info()  # Output: 2022 Toyota Camry\n"
      ],
      "metadata": {
        "colab": {
          "base_uri": "https://localhost:8080/"
        },
        "id": "RO_qz9ehHyai",
        "outputId": "75e07a08-93af-4601-a136-6979400a05b1"
      },
      "execution_count": 6,
      "outputs": [
        {
          "output_type": "stream",
          "name": "stdout",
          "text": [
            "2022 Toyota Camry\n"
          ]
        }
      ]
    },
    {
      "cell_type": "markdown",
      "source": [
        "3. Explain the difference between instance methods and class methods. Provide an example of each."
      ],
      "metadata": {
        "id": "zBtbgsWqH2Wc"
      }
    },
    {
      "cell_type": "markdown",
      "source": [
        "1.Instance Methods operate on individual object instances and access instance attributes.\n",
        "\n",
        "2.Class Methods operate on the class itself and use a class-level reference."
      ],
      "metadata": {
        "id": "QXoGVeCCH5tu"
      }
    },
    {
      "cell_type": "code",
      "source": [
        "class Example:\n",
        "    def __init__(self, value):\n",
        "        self.value = value\n",
        "\n",
        "    def instance_method(self):  # Instance method\n",
        "        return f\"Instance value: {self.value}\"\n",
        "\n",
        "    @classmethod\n",
        "    def class_method(cls):  # Class method\n",
        "        return \"This is a class method\"\n",
        "\n",
        "# Example usage\n",
        "obj = Example(10)\n",
        "print(obj.instance_method())  # Output: Instance value: 10\n",
        "print(Example.class_method())  # Output: This is a class method\n"
      ],
      "metadata": {
        "colab": {
          "base_uri": "https://localhost:8080/"
        },
        "id": "WbdL0dcFISKo",
        "outputId": "51d30c91-02cb-4702-bcca-a765dafdcc43"
      },
      "execution_count": 7,
      "outputs": [
        {
          "output_type": "stream",
          "name": "stdout",
          "text": [
            "Instance value: 10\n",
            "This is a class method\n"
          ]
        }
      ]
    },
    {
      "cell_type": "markdown",
      "source": [
        "4. How does Python implement method overloading? Give an example."
      ],
      "metadata": {
        "id": "KV-Kxig8IYMs"
      }
    },
    {
      "cell_type": "markdown",
      "source": [
        "\n",
        "Python doesn't support traditional method overloading (multiple methods with the same name but different parameters). Instead, it uses default arguments or variable-length arguments to achieve similar functionality.\n",
        "\n",
        "##Example:"
      ],
      "metadata": {
        "id": "FbJk4hcGIbfa"
      }
    },
    {
      "cell_type": "code",
      "source": [
        "class Calculator:\n",
        "    def add(self, a, b=0, c=0):  # Single method handles different cases\n",
        "        return a + b + c\n",
        "\n",
        "# Example usage\n",
        "calc = Calculator()\n",
        "print(calc.add(5))         # Output: 5 (one argument)\n",
        "print(calc.add(5, 10))     # Output: 15 (two arguments)\n",
        "print(calc.add(5, 10, 15)) # Output: 30 (three arguments)\n"
      ],
      "metadata": {
        "colab": {
          "base_uri": "https://localhost:8080/"
        },
        "id": "wjd4GiVXItc6",
        "outputId": "0d75e9d2-feb6-4596-c050-9a8a526dfba5"
      },
      "execution_count": 8,
      "outputs": [
        {
          "output_type": "stream",
          "name": "stdout",
          "text": [
            "5\n",
            "15\n",
            "30\n"
          ]
        }
      ]
    },
    {
      "cell_type": "markdown",
      "source": [
        " 5. What are the three types of access modifiers in Python? How are they denoted?"
      ],
      "metadata": {
        "id": "SVlVlEY9Iwvm"
      }
    },
    {
      "cell_type": "markdown",
      "source": [
        "\n",
        "Python has three access modifiers:\n",
        "\n",
        "##Public (public): Accessible everywhere.\n",
        "\n"
      ],
      "metadata": {
        "id": "8a2ehJVeI0t0"
      }
    },
    {
      "cell_type": "code",
      "source": [
        "class Example:\n",
        "    def __init__(self):\n",
        "        self.value = 10  # Public\n",
        "obj = Example()\n",
        "print(obj.value)  # Output: 10\n"
      ],
      "metadata": {
        "colab": {
          "base_uri": "https://localhost:8080/"
        },
        "id": "r4FTGeplJPHp",
        "outputId": "39735c8e-d2ce-49b5-cf0b-2334d5fe3839"
      },
      "execution_count": 9,
      "outputs": [
        {
          "output_type": "stream",
          "name": "stdout",
          "text": [
            "10\n"
          ]
        }
      ]
    },
    {
      "cell_type": "markdown",
      "source": [
        "##Protected (_protected): Accessible within the class and its subclasses."
      ],
      "metadata": {
        "id": "su89UGwvJR0e"
      }
    },
    {
      "cell_type": "code",
      "source": [
        "class Example:\n",
        "    def __init__(self):\n",
        "        self._value = 20  # Protected\n",
        "class SubExample(Example):\n",
        "    def display(self):\n",
        "        print(self._value)\n",
        "obj = SubExample()\n",
        "obj.display()  # Output: 20\n"
      ],
      "metadata": {
        "colab": {
          "base_uri": "https://localhost:8080/"
        },
        "id": "r3nD1ojMJWt5",
        "outputId": "de34ee7d-b39e-417e-beef-a686331fa7ba"
      },
      "execution_count": 10,
      "outputs": [
        {
          "output_type": "stream",
          "name": "stdout",
          "text": [
            "20\n"
          ]
        }
      ]
    },
    {
      "cell_type": "markdown",
      "source": [
        "##Private (__private): Accessible only within the class."
      ],
      "metadata": {
        "id": "CUVtznCWJZuw"
      }
    },
    {
      "cell_type": "code",
      "source": [
        "class Example:\n",
        "    def __init__(self):\n",
        "        self.__value = 30  # Private\n",
        "\n",
        "    def get_value(self):\n",
        "        return self.__value\n",
        "obj = Example()\n",
        "print(obj.get_value())  # Output: 30\n"
      ],
      "metadata": {
        "colab": {
          "base_uri": "https://localhost:8080/"
        },
        "id": "56_R0479Jg4u",
        "outputId": "8244765a-9e77-4511-a33b-19bd0c85e66b"
      },
      "execution_count": 11,
      "outputs": [
        {
          "output_type": "stream",
          "name": "stdout",
          "text": [
            "30\n"
          ]
        }
      ]
    },
    {
      "cell_type": "markdown",
      "source": [
        " 6. Describe the five types of inheritance in Python. Provide a simple example of multiple inheritance."
      ],
      "metadata": {
        "id": "8u5lkY6iJlV0"
      }
    },
    {
      "cell_type": "markdown",
      "source": [
        "##Five Types of Inheritance in Python:\n",
        "###Single Inheritance: One parent, one child.\n",
        "\n",
        "###Multiple Inheritance: Multiple parents, one child.\n",
        "\n",
        "###Multilevel Inheritance: Chain of inheritance (Parent → Child → Grandchild).\n",
        "\n",
        "###Hierarchical Inheritance: One parent, multiple children.\n",
        "\n",
        "###Hybrid Inheritance: Combination of two or more types.\n"
      ],
      "metadata": {
        "id": "zDPDKKCXJtMz"
      }
    },
    {
      "cell_type": "markdown",
      "source": [
        "#Example of Multiple Inheritance:"
      ],
      "metadata": {
        "id": "jkjNxpC4Ka_1"
      }
    },
    {
      "cell_type": "code",
      "source": [
        "class Parent1:\n",
        "    def feature1(self):\n",
        "        return \"Feature from Parent1\"\n",
        "\n",
        "class Parent2:\n",
        "    def feature2(self):\n",
        "        return \"Feature from Parent2\"\n",
        "\n",
        "class Child(Parent1, Parent2):\n",
        "    pass\n",
        "\n",
        "obj = Child()\n",
        "print(obj.feature1())  # Output: Feature from Parent1\n",
        "print(obj.feature2())  # Output: Feature from Parent2\n"
      ],
      "metadata": {
        "colab": {
          "base_uri": "https://localhost:8080/"
        },
        "id": "LMl-ea50KMDV",
        "outputId": "ecff806e-6618-4b65-bb93-3c75d69913d0"
      },
      "execution_count": 12,
      "outputs": [
        {
          "output_type": "stream",
          "name": "stdout",
          "text": [
            "Feature from Parent1\n",
            "Feature from Parent2\n"
          ]
        }
      ]
    },
    {
      "cell_type": "markdown",
      "source": [
        "7. What is the Method Resolution Order (MRO) in Python? How can you retrieve it programmatically?"
      ],
      "metadata": {
        "id": "n_x9w0geKkU_"
      }
    },
    {
      "cell_type": "markdown",
      "source": [
        "\n",
        "##Method Resolution Order (MRO)\n",
        "MRO determines the sequence in which classes are searched for a method or attribute during inheritance, especially in multiple inheritance.\n",
        "\n",
        "##Retrieve MRO Programmatically\n",
        "Use the mro() method or __mro__ attribute.\n",
        "\n",
        "Example:"
      ],
      "metadata": {
        "id": "h3-AUww7KoOl"
      }
    },
    {
      "cell_type": "code",
      "source": [
        "class A: pass\n",
        "class B(A): pass\n",
        "class C(B): pass\n",
        "\n",
        "print(C.mro())     # Output: [<class '__main__.C'>, <class '__main__.B'>, <class '__main__.A'>, <class 'object'>]\n",
        "print(C.__mro__)   # Same output\n"
      ],
      "metadata": {
        "colab": {
          "base_uri": "https://localhost:8080/"
        },
        "id": "tnHtoZW1K2kG",
        "outputId": "83b8dc87-f271-47ad-a799-af14d7786fa6"
      },
      "execution_count": 13,
      "outputs": [
        {
          "output_type": "stream",
          "name": "stdout",
          "text": [
            "[<class '__main__.C'>, <class '__main__.B'>, <class '__main__.A'>, <class 'object'>]\n",
            "(<class '__main__.C'>, <class '__main__.B'>, <class '__main__.A'>, <class 'object'>)\n"
          ]
        }
      ]
    },
    {
      "cell_type": "markdown",
      "source": [
        " 8. Create an abstract base class `Shape` with an abstract method `area()`. Then create two subclasses\n",
        "`Circle` and `Rectangle` that implement the `area()` method."
      ],
      "metadata": {
        "id": "Scm9wSL6K6MB"
      }
    },
    {
      "cell_type": "code",
      "source": [
        "from abc import ABC, abstractmethod\n",
        "\n",
        "class Shape(ABC):\n",
        "    @abstractmethod\n",
        "    def area(self):\n",
        "        pass\n",
        "\n",
        "class Circle(Shape):\n",
        "    def __init__(self, radius):\n",
        "        self.radius = radius\n",
        "\n",
        "    def area(self):\n",
        "        return 3.14 * self.radius ** 2\n",
        "\n",
        "class Rectangle(Shape):\n",
        "    def __init__(self, length, width):\n",
        "        self.length = length\n",
        "        self.width = width\n",
        "\n",
        "    def area(self):\n",
        "        return self.length * self.width\n",
        "\n",
        "# Example usage\n",
        "circle = Circle(5)\n",
        "rectangle = Rectangle(4, 6)\n",
        "print(circle.area())      # Output: 78.5\n",
        "print(rectangle.area())   # Output: 24\n"
      ],
      "metadata": {
        "colab": {
          "base_uri": "https://localhost:8080/"
        },
        "id": "t0JpmzY0LGvl",
        "outputId": "343d01ed-c067-4e2e-f3ac-660fa50e56e7"
      },
      "execution_count": 14,
      "outputs": [
        {
          "output_type": "stream",
          "name": "stdout",
          "text": [
            "78.5\n",
            "24\n"
          ]
        }
      ]
    },
    {
      "cell_type": "markdown",
      "source": [
        " 9. Demonstrate polymorphism by creating a function that can work with different shape objects to calculate\n",
        "and print their areas"
      ],
      "metadata": {
        "id": "CaoA4wm4LJKj"
      }
    },
    {
      "cell_type": "code",
      "source": [
        "def print_area(shape):\n",
        "    print(f\"Area: {shape.area()}\")\n",
        "\n",
        "# Example usage\n",
        "circle = Circle(5)\n",
        "rectangle = Rectangle(4, 6)\n",
        "\n",
        "print_area(circle)      # Output: Area: 78.5\n",
        "print_area(rectangle)   # Output: Area: 24\n"
      ],
      "metadata": {
        "colab": {
          "base_uri": "https://localhost:8080/"
        },
        "id": "zaM6n28yLbxl",
        "outputId": "32f95778-c7eb-404b-a0b1-d8a71c635404"
      },
      "execution_count": 15,
      "outputs": [
        {
          "output_type": "stream",
          "name": "stdout",
          "text": [
            "Area: 78.5\n",
            "Area: 24\n"
          ]
        }
      ]
    },
    {
      "cell_type": "markdown",
      "source": [
        "##Polymorphism:\n",
        "The print_area() function works with different objects (Circle and Rectangle), demonstrating polymorphism by calling their respective area() methods dynamically."
      ],
      "metadata": {
        "id": "MiY5IH16Letb"
      }
    },
    {
      "cell_type": "markdown",
      "source": [
        " 10. Implement encapsulation in a `BankAccount` class with private attributes for `balance` and\n",
        "`account_number`. Include methods for deposit, withdrawal, and balance inquiry."
      ],
      "metadata": {
        "id": "K2yax-oNL-tH"
      }
    },
    {
      "cell_type": "code",
      "source": [
        "class BankAccount:\n",
        "    def __init__(self, account_number, balance=0):\n",
        "        self.__account_number = account_number  # Private attribute\n",
        "        self.__balance = balance  # Private attribute\n",
        "\n",
        "    def deposit(self, amount):\n",
        "        if amount > 0:\n",
        "            self.__balance += amount\n",
        "\n",
        "    def withdraw(self, amount):\n",
        "        if 0 < amount <= self.__balance:\n",
        "            self.__balance -= amount\n",
        "\n",
        "    def get_balance(self):\n",
        "        return self.__balance\n",
        "\n",
        "# Example usage\n",
        "account = BankAccount(12345, 1000)\n",
        "account.deposit(500)\n",
        "account.withdraw(200)\n",
        "print(account.get_balance())  # Output: 1300\n"
      ],
      "metadata": {
        "colab": {
          "base_uri": "https://localhost:8080/"
        },
        "id": "s_wEcml9MNcr",
        "outputId": "1c289a96-4304-4873-8939-9f768be42ecb"
      },
      "execution_count": 16,
      "outputs": [
        {
          "output_type": "stream",
          "name": "stdout",
          "text": [
            "1300\n"
          ]
        }
      ]
    },
    {
      "cell_type": "markdown",
      "source": [
        "##Encapsulation:\n",
        "Private attributes (__balance, __account_number) are protected, with methods provided for controlled access to the data."
      ],
      "metadata": {
        "id": "c-_q5KrlMO-P"
      }
    },
    {
      "cell_type": "markdown",
      "source": [],
      "metadata": {
        "id": "x2BOV5C1MTCh"
      }
    },
    {
      "cell_type": "markdown",
      "source": [
        " 11. Write a class that overrides the `__str__` and `__add__` magic methods. What will these methods allow\n",
        "you to do?"
      ],
      "metadata": {
        "id": "a3Nc0It2MXQb"
      }
    },
    {
      "cell_type": "code",
      "source": [
        "class Point:\n",
        "    def __init__(self, x, y):\n",
        "        self.x = x\n",
        "        self.y = y\n",
        "\n",
        "    def __str__(self):\n",
        "        return f\"Point({self.x}, {self.y})\"  # Custom string representation\n",
        "\n",
        "    def __add__(self, other):\n",
        "        return Point(self.x + other.x, self.y + other.y)  # Add two points\n",
        "\n",
        "# Example usage\n",
        "p1 = Point(2, 3)\n",
        "p2 = Point(4, 5)\n",
        "\n",
        "print(p1)           # Output: Point(2, 3)\n",
        "p3 = p1 + p2\n",
        "print(p3)           # Output: Point(6, 8)\n"
      ],
      "metadata": {
        "colab": {
          "base_uri": "https://localhost:8080/"
        },
        "id": "8db9S9UTMgfh",
        "outputId": "bafb06f9-80ba-43cf-ae3d-2b3aa63c4cde"
      },
      "execution_count": 17,
      "outputs": [
        {
          "output_type": "stream",
          "name": "stdout",
          "text": [
            "Point(2, 3)\n",
            "Point(6, 8)\n"
          ]
        }
      ]
    },
    {
      "cell_type": "markdown",
      "source": [
        "##Explanation:\n",
        "__str__: Customizes the string representation of the object.\n",
        "\n",
        "__add__: Allows the + operator to be used to add two Point objects."
      ],
      "metadata": {
        "id": "yO26yGnpMiA7"
      }
    },
    {
      "cell_type": "markdown",
      "source": [
        " 12. Create a decorator that measures and prints the execution time of a function."
      ],
      "metadata": {
        "id": "r6u-e00eMppP"
      }
    },
    {
      "cell_type": "code",
      "source": [
        "import time\n",
        "\n",
        "def measure_time(func):\n",
        "    def wrapper(*args, **kwargs):\n",
        "        start_time = time.time()\n",
        "        result = func(*args, **kwargs)\n",
        "        end_time = time.time()\n",
        "        print(f\"Execution time: {end_time - start_time} seconds\")\n",
        "        return result\n",
        "    return wrapper\n",
        "\n",
        "@measure_time\n",
        "def example_function():\n",
        "    time.sleep(2)\n",
        "\n",
        "example_function()  # Output: Execution time: 2.0xxxxxx seconds\n"
      ],
      "metadata": {
        "colab": {
          "base_uri": "https://localhost:8080/"
        },
        "id": "p5k6xiSsM2qG",
        "outputId": "2e48cd7e-ee91-41c8-9c07-d8ecacf10f92"
      },
      "execution_count": 18,
      "outputs": [
        {
          "output_type": "stream",
          "name": "stdout",
          "text": [
            "Execution time: 2.003030300140381 seconds\n"
          ]
        }
      ]
    },
    {
      "cell_type": "markdown",
      "source": [
        "##Explanation:\n",
        "The measure_time decorator calculates and prints the execution time of the decorated function.\n",
        "\n",
        "\n",
        "\n",
        "\n",
        "\n",
        "\n"
      ],
      "metadata": {
        "id": "y_bTJiLOM7JL"
      }
    },
    {
      "cell_type": "markdown",
      "source": [
        " 13. Explain the concept of the Diamond Problem in multiple inheritance. How does Python resolve it?"
      ],
      "metadata": {
        "id": "30dAVH1NNxIW"
      }
    },
    {
      "cell_type": "markdown",
      "source": [
        "\n",
        "The Diamond Problem occurs in multiple inheritance when a class inherits from two classes that both inherit from a common ancestor. Python resolves it using C3 Linearization (Method Resolution Order - MRO).\n",
        "\n",
        "##Example:"
      ],
      "metadata": {
        "id": "HXbdzHPDN9bK"
      }
    },
    {
      "cell_type": "code",
      "source": [
        "class A:\n",
        "    def speak(self):\n",
        "        print(\"A speaks\")\n",
        "\n",
        "class B(A):\n",
        "    def speak(self):\n",
        "        print(\"B speaks\")\n",
        "\n",
        "class C(A):\n",
        "    def speak(self):\n",
        "        print(\"C speaks\")\n",
        "\n",
        "class D(B, C):\n",
        "    pass\n",
        "\n",
        "d = D()\n",
        "d.speak()  # Output: B speaks (MRO resolves the order)\n"
      ],
      "metadata": {
        "colab": {
          "base_uri": "https://localhost:8080/"
        },
        "id": "bH7_0brWN4T1",
        "outputId": "596c6e9e-b097-4bf7-a830-428704d58964"
      },
      "execution_count": 19,
      "outputs": [
        {
          "output_type": "stream",
          "name": "stdout",
          "text": [
            "B speaks\n"
          ]
        }
      ]
    },
    {
      "cell_type": "markdown",
      "source": [
        "##Resolution:\n",
        "Python’s MRO ensures that B is prioritized over C, avoiding ambiguity.\n",
        "\n",
        "\n",
        "\n",
        "\n",
        "\n",
        "\n"
      ],
      "metadata": {
        "id": "Z8n-5u-fOKMe"
      }
    },
    {
      "cell_type": "markdown",
      "source": [
        "14. Write a class method that keeps track of the number of instances created from a class."
      ],
      "metadata": {
        "id": "MAtMDSshOQ4U"
      }
    },
    {
      "cell_type": "code",
      "source": [
        "class MyClass:\n",
        "    instance_count = 0  # Class variable to track instances\n",
        "\n",
        "    def __init__(self):\n",
        "        MyClass.instance_count += 1\n",
        "\n",
        "    @classmethod\n",
        "    def get_instance_count(cls):\n",
        "        return cls.instance_count\n",
        "\n",
        "# Example usage\n",
        "obj1 = MyClass()\n",
        "obj2 = MyClass()\n",
        "print(MyClass.get_instance_count())  # Output: 2\n"
      ],
      "metadata": {
        "colab": {
          "base_uri": "https://localhost:8080/"
        },
        "id": "bKdP-FxgOdQt",
        "outputId": "176579f6-305c-4848-8304-22b426bb37d6"
      },
      "execution_count": 20,
      "outputs": [
        {
          "output_type": "stream",
          "name": "stdout",
          "text": [
            "2\n"
          ]
        }
      ]
    },
    {
      "cell_type": "markdown",
      "source": [
        "##Explanation:\n",
        "The class method get_instance_count() retrieves the number of instances created, stored in the class variable instance_count."
      ],
      "metadata": {
        "id": "UaeHXpKzOYrI"
      }
    },
    {
      "cell_type": "markdown",
      "source": [
        " 15. Implement a static method in a class that checks if a given year is a leap year."
      ],
      "metadata": {
        "id": "_WiIAbQJOk2s"
      }
    },
    {
      "cell_type": "code",
      "source": [
        "class Year:\n",
        "    @staticmethod\n",
        "    def is_leap_year(year):\n",
        "        return (year % 4 == 0 and (year % 100 != 0 or year % 400 == 0))\n",
        "\n",
        "# Example usage\n",
        "print(Year.is_leap_year(2024))  # Output: True\n",
        "print(Year.is_leap_year(2023))  # Output: False\n"
      ],
      "metadata": {
        "colab": {
          "base_uri": "https://localhost:8080/"
        },
        "id": "M4uJbgwrOoYm",
        "outputId": "9dbfc25f-7cea-4710-9870-ec0d970500aa"
      },
      "execution_count": 21,
      "outputs": [
        {
          "output_type": "stream",
          "name": "stdout",
          "text": [
            "True\n",
            "False\n"
          ]
        }
      ]
    },
    {
      "cell_type": "markdown",
      "source": [
        "##Explanation:\n",
        "The static method is_leap_year() checks if a given year is a leap year based on the typical leap year rules. It doesn't require access to instance or class variables."
      ],
      "metadata": {
        "id": "9kfBWL6KOsua"
      }
    }
  ]
}